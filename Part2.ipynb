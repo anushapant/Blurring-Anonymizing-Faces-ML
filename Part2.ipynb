{
  "cells": [
    {
      "cell_type": "code",
      "execution_count": null,
      "metadata": {
        "id": "7yLkdC2oXz8E"
      },
      "outputs": [],
      "source": [
        "# importing the required libraries\n",
        "import cv2\n",
        "import matplotlib.pyplot as plt\n",
        "import numpy as np\n",
        "from sklearn import datasets, neighbors\n",
        "from sklearn.decomposition import PCA\n",
        "from sklearn.model_selection import train_test_split\n",
        "from sklearn.metrics import accuracy_score, confusion_matrix\n",
        "np.random.seed(42)"
      ]
    },
    {
      "cell_type": "markdown",
      "metadata": {
        "id": "VG26dXrMw55B"
      },
      "source": [
        "# The Dataset "
      ]
    },
    {
      "cell_type": "code",
      "execution_count": null,
      "metadata": {
        "id": "qpAauBvsA5PX",
        "colab": {
          "base_uri": "https://localhost:8080/"
        },
        "outputId": "bc252be2-3dd6-41f3-eeb3-9c503102e097"
      },
      "outputs": [
        {
          "output_type": "stream",
          "name": "stdout",
          "text": [
            "downloading Olivetti faces from https://ndownloader.figshare.com/files/5976027 to /root/scikit_learn_data\n"
          ]
        }
      ],
      "source": [
        "# Obtaining the Olivetti Dataset\n",
        "# 40 classes, labeled images\n",
        "data = datasets.fetch_olivetti_faces()"
      ]
    },
    {
      "cell_type": "code",
      "execution_count": null,
      "metadata": {
        "colab": {
          "base_uri": "https://localhost:8080/",
          "height": 266
        },
        "id": "tOM4vKQlBHPn",
        "outputId": "be9894ac-b1c5-47f0-e301-ade1b216eaf9"
      },
      "outputs": [
        {
          "output_type": "execute_result",
          "data": {
            "text/plain": [
              "<matplotlib.image.AxesImage at 0x7ff2ab039190>"
            ]
          },
          "metadata": {},
          "execution_count": 3
        },
        {
          "output_type": "display_data",
          "data": {
            "text/plain": [
              "<Figure size 432x288 with 1 Axes>"
            ],
            "image/png": "[encoded data removed]"
          },
          "metadata": {
            "needs_background": "light"
          }
        }
      ],
      "source": [
        "# Example of how an image looks\n",
        "image = data.images[0]\n",
        "plt.axis('off')\n",
        "#image = image.reshape(64, 64)\n",
        "image = cv2.cvtColor(image, cv2.COLOR_GRAY2BGR)\n",
        "plt.imshow(image)"
      ]
    },
    {
      "cell_type": "code",
      "execution_count": null,
      "metadata": {
        "colab": {
          "base_uri": "https://localhost:8080/",
          "height": 266
        },
        "id": "M-dpP61fYVPU",
        "outputId": "09dff2fb-e3ac-478c-ad1b-b359c64cc93c"
      },
      "outputs": [
        {
          "output_type": "execute_result",
          "data": {
            "text/plain": [
              "<matplotlib.image.AxesImage at 0x7ff2aaab2510>"
            ]
          },
          "metadata": {},
          "execution_count": 4
        },
        {
          "output_type": "display_data",
          "data": {
            "text/plain": [
              "<Figure size 432x288 with 1 Axes>"
            ],
            "image/png": "[encoded data removed]"
          },
          "metadata": {
            "needs_background": "light"
          }
        }
      ],
      "source": [
        "newImg = cv2.GaussianBlur(image, (9, 9), 30)\n",
        "plt.axis('off')\n",
        "plt.imshow(newImg)"
      ]
    },
    {
      "cell_type": "code",
      "execution_count": null,
      "metadata": {
        "id": "GR6OAKW2650T"
      },
      "outputs": [],
      "source": [
        "# Generating a custom dataset, where each image is blurred, but the label remains the same\n",
        "\n",
        "newImages = [None]*len(data.images)\n",
        "newData = [None]*len(data.images)\n",
        "labels = data.target\n",
        "for i in range(len(data.images)):\n",
        "  newImg = cv2.GaussianBlur(data.images[i], (9, 9), 30)\n",
        "  newImages[i] = newImg\n",
        "  newData[i] = newImg.reshape(data.data[0].shape)\n"
      ]
    },
    {
      "cell_type": "markdown",
      "metadata": {
        "id": "N44g5OrkxGJ7"
      },
      "source": [
        "# K Nearest Neighbours "
      ]
    },
    {
      "cell_type": "code",
      "source": [
        "# splitting the dataset into the training and testing set  \n",
        "# Each class is being split in such a way that 90% is in the training set, and the remaining 10% in the test set.\n",
        "\n",
        "x_train = []\n",
        "y_train = []\n",
        "x_test = []\n",
        "y_test = []\n",
        "\n",
        "for i in range(40):\n",
        "  totalx = []\n",
        "  totaly = []\n",
        "  for j in range(len(labels)):\n",
        "      if labels[j] == i:\n",
        "          totalx.append(newData[j])\n",
        "          totaly.append(labels[j])\n",
        "  trainx, testx, trainy, testy = train_test_split(totalx, totaly, test_size = 0.1, random_state= 12)\n",
        "  x_train += trainx\n",
        "  y_train += trainy\n",
        "  x_test += testx\n",
        "  y_test += testy"
      ],
      "metadata": {
        "id": "BbL9-coPUmlq"
      },
      "execution_count": null,
      "outputs": []
    },
    {
      "cell_type": "code",
      "execution_count": null,
      "metadata": {
        "colab": {
          "base_uri": "https://localhost:8080/",
          "height": 305
        },
        "id": "anTEnEzi3bm3",
        "outputId": "1c6bf03d-45c5-4bc2-db6e-773b4ef315a7"
      },
      "outputs": [
        {
          "output_type": "stream",
          "name": "stdout",
          "text": [
            "(120, 4096)\n"
          ]
        },
        {
          "output_type": "execute_result",
          "data": {
            "text/plain": [
              "<matplotlib.image.AxesImage at 0x7f18adde3350>"
            ]
          },
          "metadata": {},
          "execution_count": 6
        },
        {
          "output_type": "display_data",
          "data": {
            "text/plain": [
              "<Figure size 432x288 with 1 Axes>"
            ],
            "image/png": "[encoded data removed]"
          },
          "metadata": {
            "needs_background": "light"
          }
        }
      ],
      "source": [
        "x_train = np.array(x_train)\n",
        "x_test = np.array(x_test)\n",
        "\n",
        "pca = PCA(n_components=120) \n",
        "pca.fit(x_train)\n",
        "print(pca.components_.shape) # given the number of components and features\n",
        "# The average face\n",
        "plt.imshow(pca.mean_.reshape(data.images[0].shape), cmap = 'gray')  #displaying the data as an image of the same dimensions as the original data images"
      ]
    },
    {
      "cell_type": "code",
      "execution_count": null,
      "metadata": {
        "colab": {
          "base_uri": "https://localhost:8080/"
        },
        "id": "hhzHbolg3oir",
        "outputId": "aa001563-82cb-46ca-b2ce-b3fda19a6c41"
      },
      "outputs": [
        {
          "output_type": "stream",
          "name": "stdout",
          "text": [
            "(360, 120)\n",
            "(40, 120)\n"
          ]
        }
      ],
      "source": [
        "# We now want each of the training faces to be converted to a linear combination of the eigenvectors\n",
        "pcax_train = pca.transform(x_train)\n",
        "print(pcax_train.shape)\n",
        "# We now want to convert each of the testing images to a linear combiation of the eigenfaces\n",
        "pcax_test = pca.transform(x_test)\n",
        "print(pcax_test.shape)"
      ]
    },
    {
      "cell_type": "code",
      "execution_count": null,
      "metadata": {
        "id": "KFGJIEGP3xTJ"
      },
      "outputs": [],
      "source": [
        "n = 1 # n is 1 so that we get the closest prediction only as the label for the input image\n",
        "knn = neighbors.KNeighborsClassifier(n_neighbors=n)\n",
        "knn.fit(pcax_train, y_train)\n",
        "pred = knn.predict(pcax_test)"
      ]
    },
    {
      "cell_type": "code",
      "execution_count": null,
      "metadata": {
        "colab": {
          "base_uri": "https://localhost:8080/"
        },
        "id": "RoqH7v8q7rw9",
        "outputId": "1b9f1a6f-bf80-4dc0-df1a-e3977b4ea72b"
      },
      "outputs": [
        {
          "output_type": "stream",
          "name": "stdout",
          "text": [
            "[39  1 25 39  4  5  6  7  8  9 10 11  3 13 14 15 16 17 18 19 20 21 22 23\n",
            " 24 25 26 27 28 29 30 31 32 33 34 35 36 37 38 39]\n",
            "[0, 1, 2, 3, 4, 5, 6, 7, 8, 9, 10, 11, 12, 13, 14, 15, 16, 17, 18, 19, 20, 21, 22, 23, 24, 25, 26, 27, 28, 29, 30, 31, 32, 33, 34, 35, 36, 37, 38, 39]\n",
            "The accuracy of KNN is 90.0 %\n"
          ]
        }
      ],
      "source": [
        "# Comparing the predictions to the actual labels to compute the accuracy\n",
        "print(pred)\n",
        "print(y_test)\n",
        "accuracy = accuracy_score(y_test,pred)\n",
        "a = accuracy * 100\n",
        "print(\"The accuracy of KNN is\", a, \"%\")"
      ]
    },
    {
      "cell_type": "code",
      "execution_count": null,
      "metadata": {
        "colab": {
          "base_uri": "https://localhost:8080/"
        },
        "id": "w2WYwtKfs2pz",
        "outputId": "bac231b7-685c-46b4-a147-bb0ccb10d2de"
      },
      "outputs": [
        {
          "output_type": "stream",
          "name": "stdout",
          "text": [
            "0 0 0 0 0 0 0 0 0 0 0 0 0 0 0 0 0 0 0 0 0 0 0 0 0 0 0 0 0 0 0 0 0 0 0 0 0 0 0 1\n",
            "0 1 0 0 0 0 0 0 0 0 0 0 0 0 0 0 0 0 0 0 0 0 0 0 0 0 0 0 0 0 0 0 0 0 0 0 0 0 0 0\n",
            "0 0 0 0 0 0 0 0 0 0 0 0 0 0 0 0 0 0 0 0 0 0 0 0 0 1 0 0 0 0 0 0 0 0 0 0 0 0 0 0\n",
            "0 0 0 0 0 0 0 0 0 0 0 0 0 0 0 0 0 0 0 0 0 0 0 0 0 0 0 0 0 0 0 0 0 0 0 0 0 0 0 1\n",
            "0 0 0 0 1 0 0 0 0 0 0 0 0 0 0 0 0 0 0 0 0 0 0 0 0 0 0 0 0 0 0 0 0 0 0 0 0 0 0 0\n",
            "0 0 0 0 0 1 0 0 0 0 0 0 0 0 0 0 0 0 0 0 0 0 0 0 0 0 0 0 0 0 0 0 0 0 0 0 0 0 0 0\n",
            "0 0 0 0 0 0 1 0 0 0 0 0 0 0 0 0 0 0 0 0 0 0 0 0 0 0 0 0 0 0 0 0 0 0 0 0 0 0 0 0\n",
            "0 0 0 0 0 0 0 1 0 0 0 0 0 0 0 0 0 0 0 0 0 0 0 0 0 0 0 0 0 0 0 0 0 0 0 0 0 0 0 0\n",
            "0 0 0 0 0 0 0 0 1 0 0 0 0 0 0 0 0 0 0 0 0 0 0 0 0 0 0 0 0 0 0 0 0 0 0 0 0 0 0 0\n",
            "0 0 0 0 0 0 0 0 0 1 0 0 0 0 0 0 0 0 0 0 0 0 0 0 0 0 0 0 0 0 0 0 0 0 0 0 0 0 0 0\n",
            "0 0 0 0 0 0 0 0 0 0 1 0 0 0 0 0 0 0 0 0 0 0 0 0 0 0 0 0 0 0 0 0 0 0 0 0 0 0 0 0\n",
            "0 0 0 0 0 0 0 0 0 0 0 1 0 0 0 0 0 0 0 0 0 0 0 0 0 0 0 0 0 0 0 0 0 0 0 0 0 0 0 0\n",
            "0 0 0 1 0 0 0 0 0 0 0 0 0 0 0 0 0 0 0 0 0 0 0 0 0 0 0 0 0 0 0 0 0 0 0 0 0 0 0 0\n",
            "0 0 0 0 0 0 0 0 0 0 0 0 0 1 0 0 0 0 0 0 0 0 0 0 0 0 0 0 0 0 0 0 0 0 0 0 0 0 0 0\n",
            "0 0 0 0 0 0 0 0 0 0 0 0 0 0 1 0 0 0 0 0 0 0 0 0 0 0 0 0 0 0 0 0 0 0 0 0 0 0 0 0\n",
            "0 0 0 0 0 0 0 0 0 0 0 0 0 0 0 1 0 0 0 0 0 0 0 0 0 0 0 0 0 0 0 0 0 0 0 0 0 0 0 0\n",
            "0 0 0 0 0 0 0 0 0 0 0 0 0 0 0 0 1 0 0 0 0 0 0 0 0 0 0 0 0 0 0 0 0 0 0 0 0 0 0 0\n",
            "0 0 0 0 0 0 0 0 0 0 0 0 0 0 0 0 0 1 0 0 0 0 0 0 0 0 0 0 0 0 0 0 0 0 0 0 0 0 0 0\n",
            "0 0 0 0 0 0 0 0 0 0 0 0 0 0 0 0 0 0 1 0 0 0 0 0 0 0 0 0 0 0 0 0 0 0 0 0 0 0 0 0\n",
            "0 0 0 0 0 0 0 0 0 0 0 0 0 0 0 0 0 0 0 1 0 0 0 0 0 0 0 0 0 0 0 0 0 0 0 0 0 0 0 0\n",
            "0 0 0 0 0 0 0 0 0 0 0 0 0 0 0 0 0 0 0 0 1 0 0 0 0 0 0 0 0 0 0 0 0 0 0 0 0 0 0 0\n",
            "0 0 0 0 0 0 0 0 0 0 0 0 0 0 0 0 0 0 0 0 0 1 0 0 0 0 0 0 0 0 0 0 0 0 0 0 0 0 0 0\n",
            "0 0 0 0 0 0 0 0 0 0 0 0 0 0 0 0 0 0 0 0 0 0 1 0 0 0 0 0 0 0 0 0 0 0 0 0 0 0 0 0\n",
            "0 0 0 0 0 0 0 0 0 0 0 0 0 0 0 0 0 0 0 0 0 0 0 1 0 0 0 0 0 0 0 0 0 0 0 0 0 0 0 0\n",
            "0 0 0 0 0 0 0 0 0 0 0 0 0 0 0 0 0 0 0 0 0 0 0 0 1 0 0 0 0 0 0 0 0 0 0 0 0 0 0 0\n",
            "0 0 0 0 0 0 0 0 0 0 0 0 0 0 0 0 0 0 0 0 0 0 0 0 0 1 0 0 0 0 0 0 0 0 0 0 0 0 0 0\n",
            "0 0 0 0 0 0 0 0 0 0 0 0 0 0 0 0 0 0 0 0 0 0 0 0 0 0 1 0 0 0 0 0 0 0 0 0 0 0 0 0\n",
            "0 0 0 0 0 0 0 0 0 0 0 0 0 0 0 0 0 0 0 0 0 0 0 0 0 0 0 1 0 0 0 0 0 0 0 0 0 0 0 0\n",
            "0 0 0 0 0 0 0 0 0 0 0 0 0 0 0 0 0 0 0 0 0 0 0 0 0 0 0 0 1 0 0 0 0 0 0 0 0 0 0 0\n",
            "0 0 0 0 0 0 0 0 0 0 0 0 0 0 0 0 0 0 0 0 0 0 0 0 0 0 0 0 0 1 0 0 0 0 0 0 0 0 0 0\n",
            "0 0 0 0 0 0 0 0 0 0 0 0 0 0 0 0 0 0 0 0 0 0 0 0 0 0 0 0 0 0 1 0 0 0 0 0 0 0 0 0\n",
            "0 0 0 0 0 0 0 0 0 0 0 0 0 0 0 0 0 0 0 0 0 0 0 0 0 0 0 0 0 0 0 1 0 0 0 0 0 0 0 0\n",
            "0 0 0 0 0 0 0 0 0 0 0 0 0 0 0 0 0 0 0 0 0 0 0 0 0 0 0 0 0 0 0 0 1 0 0 0 0 0 0 0\n",
            "0 0 0 0 0 0 0 0 0 0 0 0 0 0 0 0 0 0 0 0 0 0 0 0 0 0 0 0 0 0 0 0 0 1 0 0 0 0 0 0\n",
            "0 0 0 0 0 0 0 0 0 0 0 0 0 0 0 0 0 0 0 0 0 0 0 0 0 0 0 0 0 0 0 0 0 0 1 0 0 0 0 0\n",
            "0 0 0 0 0 0 0 0 0 0 0 0 0 0 0 0 0 0 0 0 0 0 0 0 0 0 0 0 0 0 0 0 0 0 0 1 0 0 0 0\n",
            "0 0 0 0 0 0 0 0 0 0 0 0 0 0 0 0 0 0 0 0 0 0 0 0 0 0 0 0 0 0 0 0 0 0 0 0 1 0 0 0\n",
            "0 0 0 0 0 0 0 0 0 0 0 0 0 0 0 0 0 0 0 0 0 0 0 0 0 0 0 0 0 0 0 0 0 0 0 0 0 1 0 0\n",
            "0 0 0 0 0 0 0 0 0 0 0 0 0 0 0 0 0 0 0 0 0 0 0 0 0 0 0 0 0 0 0 0 0 0 0 0 0 0 1 0\n",
            "0 0 0 0 0 0 0 0 0 0 0 0 0 0 0 0 0 0 0 0 0 0 0 0 0 0 0 0 0 0 0 0 0 0 0 0 0 0 0 1\n"
          ]
        }
      ],
      "source": [
        "# Confusion matrix\n",
        "conf = confusion_matrix(y_test, pred)\n",
        "for i in range(len(conf)):\n",
        "  print(*conf[i])"
      ]
    },
    {
      "cell_type": "code",
      "execution_count": null,
      "metadata": {
        "colab": {
          "base_uri": "https://localhost:8080/",
          "height": 285
        },
        "id": "hWRME5m0EmLx",
        "outputId": "ab4e45e3-feb9-475a-fc81-9c1e212f3bd9"
      },
      "outputs": [
        {
          "output_type": "stream",
          "name": "stdout",
          "text": [
            "10\n"
          ]
        },
        {
          "output_type": "execute_result",
          "data": {
            "text/plain": [
              "<matplotlib.image.AxesImage at 0x7f18ae6aa590>"
            ]
          },
          "metadata": {},
          "execution_count": 11
        },
        {
          "output_type": "display_data",
          "data": {
            "text/plain": [
              "<Figure size 432x288 with 1 Axes>"
            ],
            "image/png": "[encoded data removed]"
          },
          "metadata": {
            "needs_background": "light"
          }
        }
      ],
      "source": [
        "# Demo of KNN prediction\n",
        "\n",
        "index = 10 \n",
        "\n",
        "trueLabel = y_test[index]\n",
        "print(trueLabel)\n",
        "\n",
        "# Example of how an image looks\n",
        "image = x_test[index]\n",
        "plt.axis('off')\n",
        "image = image.reshape(64, 64)\n",
        "image = cv2.cvtColor(image, cv2.COLOR_GRAY2BGR)\n",
        "plt.imshow(image)"
      ]
    },
    {
      "cell_type": "code",
      "source": [
        "prediction = knn.predict(pcax_test[index].reshape(1, -1))\n",
        "print(prediction)"
      ],
      "metadata": {
        "colab": {
          "base_uri": "https://localhost:8080/"
        },
        "id": "8T_8WfvbKx9O",
        "outputId": "cec42ed4-97bb-4951-80c4-c2ae39d77ab7"
      },
      "execution_count": null,
      "outputs": [
        {
          "output_type": "stream",
          "name": "stdout",
          "text": [
            "[10]\n"
          ]
        }
      ]
    },
    {
      "cell_type": "markdown",
      "metadata": {
        "id": "Rv_HgtM8PLIl"
      },
      "source": [
        "# VGG-19"
      ]
    },
    {
      "cell_type": "markdown",
      "metadata": {
        "id": "z29p-VXmNL6y"
      },
      "source": [
        "Please run the data code before the KNN section again before executing the code below"
      ]
    },
    {
      "cell_type": "code",
      "execution_count": null,
      "metadata": {
        "id": "s-3i5hu_PQ7o"
      },
      "outputs": [],
      "source": [
        "from keras.models import Sequential \n",
        "from keras.layers import *\n",
        "from keras.applications.vgg19 import VGG19"
      ]
    },
    {
      "cell_type": "code",
      "execution_count": null,
      "metadata": {
        "colab": {
          "base_uri": "https://localhost:8080/"
        },
        "id": "Ns8nJgmFK569",
        "outputId": "24120a81-ab3c-459c-da8e-ce1455310f18"
      },
      "outputs": [
        {
          "output_type": "stream",
          "name": "stdout",
          "text": [
            "(400, 64, 64, 3)\n",
            "(400, 40)\n"
          ]
        }
      ],
      "source": [
        "# pre-processing the dataset \n",
        "vggx = [None]*len(newImages)\n",
        "vggy = [None]*len(newImages)\n",
        "\n",
        "for i in range(len(newImages)):\n",
        "  c = newImages[i]\n",
        "  vggx[i] = cv2.cvtColor(c, cv2.COLOR_GRAY2BGR) # converting each image to a BGR one (3 channels now)\n",
        "  \n",
        "  # creating a one-hot encoding for the label for each image\n",
        "  label = labels[i]\n",
        "  l = [0]*40\n",
        "  l[label] = 1\n",
        "  vggy[i] = l\n",
        "\n",
        "vggx = np.array(vggx)\n",
        "vggy = np.array(vggy)\n",
        "print(vggx.shape)  \n",
        "print(vggy.shape) "
      ]
    },
    {
      "cell_type": "code",
      "execution_count": null,
      "metadata": {
        "id": "XfHCV8xfQiN-"
      },
      "outputs": [],
      "source": [
        "# splitting the dataset into the training and testing set  \n",
        "# Each class is being split in such a way that 90% is in the training set, and the remaining 10% in the test set.\n",
        "\n",
        "x_train = []\n",
        "y_train = []\n",
        "x_test = []\n",
        "y_test = []\n",
        "\n",
        "for i in range(40):\n",
        "  totalx = []\n",
        "  totaly = []\n",
        "  for j in range(len(vggy)):\n",
        "      if labels[j] == i:\n",
        "          totalx.append(vggx[j])\n",
        "          totaly.append(vggy[j])\n",
        "  trainx, testx, trainy, testy = train_test_split(totalx, totaly, test_size = 0.1)\n",
        "  x_train += trainx\n",
        "  y_train += trainy\n",
        "  x_test += testx\n",
        "  y_test += testy"
      ]
    },
    {
      "cell_type": "code",
      "source": [
        "x_train = np.array(x_train)\n",
        "y_train = np.array(y_train)\n",
        "x_test = np.array(x_test)\n",
        "y_test = np.array(y_test)\n",
        "\n",
        "print(x_train.shape, x_test.shape)"
      ],
      "metadata": {
        "colab": {
          "base_uri": "https://localhost:8080/"
        },
        "id": "dZJh_V_af3AP",
        "outputId": "a0e51cd0-2f85-46cd-aa65-55437c70b7c2"
      },
      "execution_count": null,
      "outputs": [
        {
          "output_type": "stream",
          "name": "stdout",
          "text": [
            "(360, 64, 64, 3) (40, 64, 64, 3)\n"
          ]
        }
      ]
    },
    {
      "cell_type": "code",
      "execution_count": null,
      "metadata": {
        "id": "lys4ODWoPg6a"
      },
      "outputs": [],
      "source": [
        "base = VGG19(include_top=False, weights='imagenet', input_shape=(64,64,3)) #referred to tf's VGG19 documentation and application example\n",
        "for l in base.layers:\n",
        "  l.trainable = False\n",
        "\n",
        "model = Sequential([base, Dropout(0.5),Flatten(), Dense(40,activation='softmax')])\n",
        "model.compile(optimizer='adam', loss='categorical_crossentropy',metrics=['accuracy']) "
      ]
    },
    {
      "cell_type": "code",
      "execution_count": null,
      "metadata": {
        "colab": {
          "base_uri": "https://localhost:8080/"
        },
        "id": "6UtHkMSzP88P",
        "outputId": "0373fc43-570d-436f-a62b-10bd804c3d80"
      },
      "outputs": [
        {
          "output_type": "stream",
          "name": "stdout",
          "text": [
            "Epoch 1/100\n",
            "12/12 [==============================] - 1s 49ms/step - loss: 4.2090 - accuracy: 0.0250 - val_loss: 3.5727 - val_accuracy: 0.1000\n",
            "Epoch 2/100\n",
            "12/12 [==============================] - 0s 24ms/step - loss: 3.7852 - accuracy: 0.0389 - val_loss: 3.3885 - val_accuracy: 0.3000\n",
            "Epoch 3/100\n",
            "12/12 [==============================] - 0s 24ms/step - loss: 3.5483 - accuracy: 0.0556 - val_loss: 3.2055 - val_accuracy: 0.3250\n",
            "Epoch 4/100\n",
            "12/12 [==============================] - 0s 24ms/step - loss: 3.3482 - accuracy: 0.1028 - val_loss: 3.0486 - val_accuracy: 0.5250\n",
            "Epoch 5/100\n",
            "12/12 [==============================] - 0s 23ms/step - loss: 3.2095 - accuracy: 0.1722 - val_loss: 2.9109 - val_accuracy: 0.4750\n",
            "Epoch 6/100\n",
            "12/12 [==============================] - 0s 24ms/step - loss: 3.0271 - accuracy: 0.1694 - val_loss: 2.7869 - val_accuracy: 0.4750\n",
            "Epoch 7/100\n",
            "12/12 [==============================] - 0s 24ms/step - loss: 2.8919 - accuracy: 0.2389 - val_loss: 2.6617 - val_accuracy: 0.6250\n",
            "Epoch 8/100\n",
            "12/12 [==============================] - 0s 23ms/step - loss: 2.7660 - accuracy: 0.3278 - val_loss: 2.5590 - val_accuracy: 0.5500\n",
            "Epoch 9/100\n",
            "12/12 [==============================] - 0s 23ms/step - loss: 2.6489 - accuracy: 0.3278 - val_loss: 2.4540 - val_accuracy: 0.6500\n",
            "Epoch 10/100\n",
            "12/12 [==============================] - 0s 23ms/step - loss: 2.5141 - accuracy: 0.3417 - val_loss: 2.3628 - val_accuracy: 0.6250\n",
            "Epoch 11/100\n",
            "12/12 [==============================] - 0s 24ms/step - loss: 2.4073 - accuracy: 0.4000 - val_loss: 2.2779 - val_accuracy: 0.6250\n",
            "Epoch 12/100\n",
            "12/12 [==============================] - 0s 24ms/step - loss: 2.3027 - accuracy: 0.4417 - val_loss: 2.1956 - val_accuracy: 0.6500\n",
            "Epoch 13/100\n",
            "12/12 [==============================] - 0s 26ms/step - loss: 2.1965 - accuracy: 0.5056 - val_loss: 2.1158 - val_accuracy: 0.7250\n",
            "Epoch 14/100\n",
            "12/12 [==============================] - 0s 24ms/step - loss: 2.0856 - accuracy: 0.5556 - val_loss: 2.0492 - val_accuracy: 0.7000\n",
            "Epoch 15/100\n",
            "12/12 [==============================] - 0s 24ms/step - loss: 1.9855 - accuracy: 0.5833 - val_loss: 1.9894 - val_accuracy: 0.7000\n",
            "Epoch 16/100\n",
            "12/12 [==============================] - 0s 23ms/step - loss: 1.9622 - accuracy: 0.5611 - val_loss: 1.9198 - val_accuracy: 0.7000\n",
            "Epoch 17/100\n",
            "12/12 [==============================] - 0s 23ms/step - loss: 1.8460 - accuracy: 0.6333 - val_loss: 1.8687 - val_accuracy: 0.7000\n",
            "Epoch 18/100\n",
            "12/12 [==============================] - 0s 24ms/step - loss: 1.7861 - accuracy: 0.6167 - val_loss: 1.8110 - val_accuracy: 0.7750\n",
            "Epoch 19/100\n",
            "12/12 [==============================] - 0s 24ms/step - loss: 1.7684 - accuracy: 0.6306 - val_loss: 1.7691 - val_accuracy: 0.7250\n",
            "Epoch 20/100\n",
            "12/12 [==============================] - 0s 23ms/step - loss: 1.6828 - accuracy: 0.6556 - val_loss: 1.7083 - val_accuracy: 0.7500\n",
            "Epoch 21/100\n",
            "12/12 [==============================] - 0s 24ms/step - loss: 1.6321 - accuracy: 0.6806 - val_loss: 1.6583 - val_accuracy: 0.7500\n",
            "Epoch 22/100\n",
            "12/12 [==============================] - 0s 23ms/step - loss: 1.6146 - accuracy: 0.6917 - val_loss: 1.6206 - val_accuracy: 0.7250\n",
            "Epoch 23/100\n",
            "12/12 [==============================] - 0s 24ms/step - loss: 1.5244 - accuracy: 0.6972 - val_loss: 1.5846 - val_accuracy: 0.7500\n",
            "Epoch 24/100\n",
            "12/12 [==============================] - 0s 23ms/step - loss: 1.5039 - accuracy: 0.7278 - val_loss: 1.5525 - val_accuracy: 0.8000\n",
            "Epoch 25/100\n",
            "12/12 [==============================] - 0s 23ms/step - loss: 1.3840 - accuracy: 0.7500 - val_loss: 1.5079 - val_accuracy: 0.7500\n",
            "Epoch 26/100\n",
            "12/12 [==============================] - 0s 24ms/step - loss: 1.3488 - accuracy: 0.8028 - val_loss: 1.4592 - val_accuracy: 0.8000\n",
            "Epoch 27/100\n",
            "12/12 [==============================] - 0s 23ms/step - loss: 1.3449 - accuracy: 0.7750 - val_loss: 1.4343 - val_accuracy: 0.8000\n",
            "Epoch 28/100\n",
            "12/12 [==============================] - 0s 24ms/step - loss: 1.3057 - accuracy: 0.7778 - val_loss: 1.3998 - val_accuracy: 0.8000\n",
            "Epoch 29/100\n",
            "12/12 [==============================] - 0s 24ms/step - loss: 1.2643 - accuracy: 0.7583 - val_loss: 1.3823 - val_accuracy: 0.8000\n",
            "Epoch 30/100\n",
            "12/12 [==============================] - 0s 24ms/step - loss: 1.2314 - accuracy: 0.8250 - val_loss: 1.3492 - val_accuracy: 0.7500\n",
            "Epoch 31/100\n",
            "12/12 [==============================] - 0s 23ms/step - loss: 1.1673 - accuracy: 0.8139 - val_loss: 1.3174 - val_accuracy: 0.7500\n",
            "Epoch 32/100\n",
            "12/12 [==============================] - 0s 23ms/step - loss: 1.1332 - accuracy: 0.8278 - val_loss: 1.2912 - val_accuracy: 0.8250\n",
            "Epoch 33/100\n",
            "12/12 [==============================] - 0s 23ms/step - loss: 1.1255 - accuracy: 0.8250 - val_loss: 1.2749 - val_accuracy: 0.7750\n",
            "Epoch 34/100\n",
            "12/12 [==============================] - 0s 24ms/step - loss: 1.0783 - accuracy: 0.8528 - val_loss: 1.2464 - val_accuracy: 0.8000\n",
            "Epoch 35/100\n",
            "12/12 [==============================] - 0s 23ms/step - loss: 1.1044 - accuracy: 0.8389 - val_loss: 1.2208 - val_accuracy: 0.8250\n",
            "Epoch 36/100\n",
            "12/12 [==============================] - 0s 24ms/step - loss: 1.1146 - accuracy: 0.8000 - val_loss: 1.1957 - val_accuracy: 0.8750\n",
            "Epoch 37/100\n",
            "12/12 [==============================] - 0s 23ms/step - loss: 1.0474 - accuracy: 0.8333 - val_loss: 1.1662 - val_accuracy: 0.7750\n",
            "Epoch 38/100\n",
            "12/12 [==============================] - 0s 24ms/step - loss: 1.0095 - accuracy: 0.8472 - val_loss: 1.1514 - val_accuracy: 0.8500\n",
            "Epoch 39/100\n",
            "12/12 [==============================] - 0s 23ms/step - loss: 0.9829 - accuracy: 0.8722 - val_loss: 1.1176 - val_accuracy: 0.9000\n",
            "Epoch 40/100\n",
            "12/12 [==============================] - 0s 24ms/step - loss: 0.9510 - accuracy: 0.8694 - val_loss: 1.1029 - val_accuracy: 0.8250\n",
            "Epoch 41/100\n",
            "12/12 [==============================] - 0s 24ms/step - loss: 0.9188 - accuracy: 0.8750 - val_loss: 1.0925 - val_accuracy: 0.8250\n",
            "Epoch 42/100\n",
            "12/12 [==============================] - 0s 23ms/step - loss: 0.9047 - accuracy: 0.8694 - val_loss: 1.0609 - val_accuracy: 0.8000\n",
            "Epoch 43/100\n",
            "12/12 [==============================] - 0s 23ms/step - loss: 0.8822 - accuracy: 0.8917 - val_loss: 1.0446 - val_accuracy: 0.8000\n",
            "Epoch 44/100\n",
            "12/12 [==============================] - 0s 24ms/step - loss: 0.8594 - accuracy: 0.8889 - val_loss: 1.0310 - val_accuracy: 0.8500\n",
            "Epoch 45/100\n",
            "12/12 [==============================] - 0s 23ms/step - loss: 0.8645 - accuracy: 0.9000 - val_loss: 1.0094 - val_accuracy: 0.8500\n",
            "Epoch 46/100\n",
            "12/12 [==============================] - 0s 23ms/step - loss: 0.8689 - accuracy: 0.8722 - val_loss: 0.9914 - val_accuracy: 0.8750\n",
            "Epoch 47/100\n",
            "12/12 [==============================] - 0s 23ms/step - loss: 0.7838 - accuracy: 0.9111 - val_loss: 0.9902 - val_accuracy: 0.8500\n",
            "Epoch 48/100\n",
            "12/12 [==============================] - 0s 24ms/step - loss: 0.8148 - accuracy: 0.9111 - val_loss: 0.9653 - val_accuracy: 0.8750\n",
            "Epoch 49/100\n",
            "12/12 [==============================] - 0s 23ms/step - loss: 0.8111 - accuracy: 0.9028 - val_loss: 0.9537 - val_accuracy: 0.8500\n",
            "Epoch 50/100\n",
            "12/12 [==============================] - 0s 23ms/step - loss: 0.7617 - accuracy: 0.9167 - val_loss: 0.9361 - val_accuracy: 0.8500\n",
            "Epoch 51/100\n",
            "12/12 [==============================] - 0s 24ms/step - loss: 0.7603 - accuracy: 0.9250 - val_loss: 0.9228 - val_accuracy: 0.8500\n",
            "Epoch 52/100\n",
            "12/12 [==============================] - 0s 23ms/step - loss: 0.7352 - accuracy: 0.9139 - val_loss: 0.9059 - val_accuracy: 0.8250\n",
            "Epoch 53/100\n",
            "12/12 [==============================] - 0s 23ms/step - loss: 0.7276 - accuracy: 0.9083 - val_loss: 0.9088 - val_accuracy: 0.8500\n",
            "Epoch 54/100\n",
            "12/12 [==============================] - 0s 23ms/step - loss: 0.7187 - accuracy: 0.9167 - val_loss: 0.8755 - val_accuracy: 0.9000\n",
            "Epoch 55/100\n",
            "12/12 [==============================] - 0s 24ms/step - loss: 0.7176 - accuracy: 0.9111 - val_loss: 0.8742 - val_accuracy: 0.8750\n",
            "Epoch 56/100\n",
            "12/12 [==============================] - 0s 24ms/step - loss: 0.6745 - accuracy: 0.9250 - val_loss: 0.8612 - val_accuracy: 0.8500\n",
            "Epoch 57/100\n",
            "12/12 [==============================] - 0s 23ms/step - loss: 0.7066 - accuracy: 0.9000 - val_loss: 0.8524 - val_accuracy: 0.8750\n",
            "Epoch 58/100\n",
            "12/12 [==============================] - 0s 24ms/step - loss: 0.6741 - accuracy: 0.9028 - val_loss: 0.8397 - val_accuracy: 0.9000\n",
            "Epoch 59/100\n",
            "12/12 [==============================] - 0s 23ms/step - loss: 0.6516 - accuracy: 0.9361 - val_loss: 0.8231 - val_accuracy: 0.9000\n",
            "Epoch 60/100\n",
            "12/12 [==============================] - 0s 24ms/step - loss: 0.6219 - accuracy: 0.9444 - val_loss: 0.8135 - val_accuracy: 0.9250\n",
            "Epoch 61/100\n",
            "12/12 [==============================] - 0s 23ms/step - loss: 0.6141 - accuracy: 0.9389 - val_loss: 0.7978 - val_accuracy: 0.9250\n",
            "Epoch 62/100\n",
            "12/12 [==============================] - 0s 32ms/step - loss: 0.6335 - accuracy: 0.9083 - val_loss: 0.8023 - val_accuracy: 0.8750\n",
            "Epoch 63/100\n",
            "12/12 [==============================] - 0s 25ms/step - loss: 0.6103 - accuracy: 0.9306 - val_loss: 0.7902 - val_accuracy: 0.8750\n",
            "Epoch 64/100\n",
            "12/12 [==============================] - 0s 23ms/step - loss: 0.6089 - accuracy: 0.9361 - val_loss: 0.7698 - val_accuracy: 0.9000\n",
            "Epoch 65/100\n",
            "12/12 [==============================] - 0s 23ms/step - loss: 0.5993 - accuracy: 0.9333 - val_loss: 0.7621 - val_accuracy: 0.8750\n",
            "Epoch 66/100\n",
            "12/12 [==============================] - 0s 24ms/step - loss: 0.5891 - accuracy: 0.9167 - val_loss: 0.7586 - val_accuracy: 0.8750\n",
            "Epoch 67/100\n",
            "12/12 [==============================] - 0s 24ms/step - loss: 0.5845 - accuracy: 0.9222 - val_loss: 0.7508 - val_accuracy: 0.9000\n",
            "Epoch 68/100\n",
            "12/12 [==============================] - 0s 23ms/step - loss: 0.5645 - accuracy: 0.9417 - val_loss: 0.7331 - val_accuracy: 0.9500\n",
            "Epoch 69/100\n",
            "12/12 [==============================] - 0s 24ms/step - loss: 0.5368 - accuracy: 0.9528 - val_loss: 0.7272 - val_accuracy: 0.9250\n",
            "Epoch 70/100\n",
            "12/12 [==============================] - 0s 23ms/step - loss: 0.5291 - accuracy: 0.9528 - val_loss: 0.7415 - val_accuracy: 0.9000\n",
            "Epoch 71/100\n",
            "12/12 [==============================] - 0s 23ms/step - loss: 0.5447 - accuracy: 0.9389 - val_loss: 0.7141 - val_accuracy: 0.8750\n",
            "Epoch 72/100\n",
            "12/12 [==============================] - 0s 23ms/step - loss: 0.5388 - accuracy: 0.9528 - val_loss: 0.7047 - val_accuracy: 0.9250\n",
            "Epoch 73/100\n",
            "12/12 [==============================] - 0s 23ms/step - loss: 0.5233 - accuracy: 0.9528 - val_loss: 0.6986 - val_accuracy: 0.9250\n",
            "Epoch 74/100\n",
            "12/12 [==============================] - 0s 23ms/step - loss: 0.5068 - accuracy: 0.9389 - val_loss: 0.6881 - val_accuracy: 0.9000\n",
            "Epoch 75/100\n",
            "12/12 [==============================] - 0s 24ms/step - loss: 0.4994 - accuracy: 0.9417 - val_loss: 0.6821 - val_accuracy: 0.9000\n",
            "Epoch 76/100\n",
            "12/12 [==============================] - 0s 24ms/step - loss: 0.4862 - accuracy: 0.9639 - val_loss: 0.6699 - val_accuracy: 0.9500\n",
            "Epoch 77/100\n",
            "12/12 [==============================] - 0s 23ms/step - loss: 0.4727 - accuracy: 0.9472 - val_loss: 0.6709 - val_accuracy: 0.9000\n",
            "Epoch 78/100\n",
            "12/12 [==============================] - 0s 23ms/step - loss: 0.4861 - accuracy: 0.9528 - val_loss: 0.6705 - val_accuracy: 0.9000\n",
            "Epoch 79/100\n",
            "12/12 [==============================] - 0s 23ms/step - loss: 0.4816 - accuracy: 0.9556 - val_loss: 0.6591 - val_accuracy: 0.9250\n",
            "Epoch 80/100\n",
            "12/12 [==============================] - 0s 23ms/step - loss: 0.4613 - accuracy: 0.9611 - val_loss: 0.6765 - val_accuracy: 0.9000\n",
            "Epoch 81/100\n",
            "12/12 [==============================] - 0s 23ms/step - loss: 0.4796 - accuracy: 0.9583 - val_loss: 0.6513 - val_accuracy: 0.9500\n",
            "Epoch 82/100\n",
            "12/12 [==============================] - 0s 24ms/step - loss: 0.4365 - accuracy: 0.9611 - val_loss: 0.6388 - val_accuracy: 0.9500\n",
            "Epoch 83/100\n",
            "12/12 [==============================] - 0s 24ms/step - loss: 0.4564 - accuracy: 0.9611 - val_loss: 0.6257 - val_accuracy: 0.9250\n",
            "Epoch 84/100\n",
            "12/12 [==============================] - 0s 23ms/step - loss: 0.4384 - accuracy: 0.9528 - val_loss: 0.6319 - val_accuracy: 0.9500\n",
            "Epoch 85/100\n",
            "12/12 [==============================] - 0s 24ms/step - loss: 0.4436 - accuracy: 0.9639 - val_loss: 0.6394 - val_accuracy: 0.9000\n",
            "Epoch 86/100\n",
            "12/12 [==============================] - 0s 23ms/step - loss: 0.4246 - accuracy: 0.9667 - val_loss: 0.6156 - val_accuracy: 0.9500\n",
            "Epoch 87/100\n",
            "12/12 [==============================] - 0s 23ms/step - loss: 0.4278 - accuracy: 0.9639 - val_loss: 0.6083 - val_accuracy: 0.9500\n",
            "Epoch 88/100\n",
            "12/12 [==============================] - 0s 23ms/step - loss: 0.4206 - accuracy: 0.9583 - val_loss: 0.6095 - val_accuracy: 0.9500\n",
            "Epoch 89/100\n",
            "12/12 [==============================] - 0s 23ms/step - loss: 0.4218 - accuracy: 0.9694 - val_loss: 0.6046 - val_accuracy: 0.9250\n",
            "Epoch 90/100\n",
            "12/12 [==============================] - 0s 24ms/step - loss: 0.4335 - accuracy: 0.9667 - val_loss: 0.5880 - val_accuracy: 0.9500\n",
            "Epoch 91/100\n",
            "12/12 [==============================] - 0s 23ms/step - loss: 0.3988 - accuracy: 0.9694 - val_loss: 0.5987 - val_accuracy: 0.9000\n",
            "Epoch 92/100\n",
            "12/12 [==============================] - 0s 23ms/step - loss: 0.3978 - accuracy: 0.9639 - val_loss: 0.5878 - val_accuracy: 0.9250\n",
            "Epoch 93/100\n",
            "12/12 [==============================] - 0s 24ms/step - loss: 0.3870 - accuracy: 0.9556 - val_loss: 0.5632 - val_accuracy: 0.9500\n",
            "Epoch 94/100\n",
            "12/12 [==============================] - 0s 23ms/step - loss: 0.3926 - accuracy: 0.9611 - val_loss: 0.5659 - val_accuracy: 0.9500\n",
            "Epoch 95/100\n",
            "12/12 [==============================] - 0s 24ms/step - loss: 0.3999 - accuracy: 0.9639 - val_loss: 0.5655 - val_accuracy: 0.9250\n",
            "Epoch 96/100\n",
            "12/12 [==============================] - 0s 23ms/step - loss: 0.3669 - accuracy: 0.9667 - val_loss: 0.5603 - val_accuracy: 0.9250\n",
            "Epoch 97/100\n",
            "12/12 [==============================] - 0s 24ms/step - loss: 0.3729 - accuracy: 0.9639 - val_loss: 0.5610 - val_accuracy: 0.9250\n",
            "Epoch 98/100\n",
            "12/12 [==============================] - 0s 27ms/step - loss: 0.3737 - accuracy: 0.9722 - val_loss: 0.5660 - val_accuracy: 0.9250\n",
            "Epoch 99/100\n",
            "12/12 [==============================] - 0s 24ms/step - loss: 0.3719 - accuracy: 0.9667 - val_loss: 0.5493 - val_accuracy: 0.9250\n",
            "Epoch 100/100\n",
            "12/12 [==============================] - 0s 23ms/step - loss: 0.3730 - accuracy: 0.9750 - val_loss: 0.5452 - val_accuracy: 0.9500\n"
          ]
        }
      ],
      "source": [
        "# DOES NOT NEED TO BE EXECUTED AGAIN SINCE IT WILL SIMPLY TRAIN THE MODEL AGAIN\n",
        "# predictions with a pre-saved, trained version of this model can be made further down in this notebook\n",
        "\n",
        "MODEL = model.fit(x_train, y_train, epochs=100, validation_data=(x_test,y_test), shuffle = True)"
      ]
    },
    {
      "cell_type": "code",
      "execution_count": null,
      "metadata": {
        "colab": {
          "base_uri": "https://localhost:8080/",
          "height": 279
        },
        "id": "IJTn-VRyHpRV",
        "outputId": "28a5f353-4417-4c39-f88d-202fa76b7d9c"
      },
      "outputs": [
        {
          "output_type": "display_data",
          "data": {
            "text/plain": [
              "<Figure size 432x288 with 1 Axes>"
            ],
            "image/png": "[encoded data removed]"
          },
          "metadata": {
            "needs_background": "light"
          }
        }
      ],
      "source": [
        "# Loss vs # of Epochs plot\n",
        "\n",
        "plt.plot(MODEL.history[\"val_loss\"])\n",
        "plt.plot(MODEL.history[\"loss\"])\n",
        "plt.xlabel(\"Epochs in the model\")\n",
        "plt.ylabel(\"Loss of the model\")\n",
        "plt.legend(['validation', 'training'])\n",
        "plt.show()"
      ]
    },
    {
      "cell_type": "code",
      "execution_count": null,
      "metadata": {
        "colab": {
          "base_uri": "https://localhost:8080/",
          "height": 279
        },
        "id": "6sCTeemPHrsl",
        "outputId": "4c3eea3e-fc50-44e7-b9dc-b97774520873"
      },
      "outputs": [
        {
          "output_type": "display_data",
          "data": {
            "text/plain": [
              "<Figure size 432x288 with 1 Axes>"
            ],
            "image/png": "[encoded data removed]"
          },
          "metadata": {
            "needs_background": "light"
          }
        }
      ],
      "source": [
        "# Accuracy vs # of Epochs plot\n",
        "\n",
        "plt.plot(MODEL.history[\"val_accuracy\"])\n",
        "plt.plot(MODEL.history[\"accuracy\"])\n",
        "plt.xlabel(\"Epochs in the model\")\n",
        "plt.ylabel(\"Accuracy of the model\")\n",
        "plt.legend(['validation', 'training'])\n",
        "plt.show()"
      ]
    },
    {
      "cell_type": "code",
      "source": [
        "# Demo of VGG-19 based Model prediction\n",
        "\n",
        "from keras.models import load_model\n",
        "# a pre-trained version of my model is stored in this git directory\n",
        "!git clone https://github.com/anushapant/AML_Model.git"
      ],
      "metadata": {
        "colab": {
          "base_uri": "https://localhost:8080/"
        },
        "id": "iZ2mcgGANHmi",
        "outputId": "91cb9a51-f61f-49f2-dea8-00921e8bd88e"
      },
      "execution_count": null,
      "outputs": [
        {
          "output_type": "stream",
          "name": "stdout",
          "text": [
            "Cloning into 'AML_Model'...\n",
            "remote: Enumerating objects: 7, done.\u001b[K\n",
            "remote: Total 7 (delta 0), reused 0 (delta 0), pack-reused 7\u001b[K\n",
            "Unpacking objects: 100% (7/7), done.\n"
          ]
        }
      ]
    },
    {
      "cell_type": "code",
      "source": [
        "# loading the saved model \n",
        "model = load_model('AML_Model')"
      ],
      "metadata": {
        "id": "D8v-ufChVN1R"
      },
      "execution_count": null,
      "outputs": []
    },
    {
      "cell_type": "code",
      "source": [
        "index = 0\n",
        "\n",
        "testimg = x_test[index]\n",
        "plt.axis('off')\n",
        "plt.imshow(testimg)\n",
        "\n",
        "testimg = np.reshape(testimg,[1,64,64,3])\n",
        "trueLabel = y_test[index]\n",
        "print(np.argmax(trueLabel))"
      ],
      "metadata": {
        "colab": {
          "base_uri": "https://localhost:8080/",
          "height": 266
        },
        "id": "FmKj17YRV829",
        "outputId": "7d83c56f-8d67-4bbb-8f3e-ac3636c87649"
      },
      "execution_count": null,
      "outputs": [
        {
          "output_type": "stream",
          "name": "stdout",
          "text": [
            "0\n"
          ]
        },
        {
          "output_type": "display_data",
          "data": {
            "text/plain": [
              "<Figure size 432x288 with 1 Axes>"
            ],
            "image/png": "[encoded data removed]"
          },
          "metadata": {
            "needs_background": "light"
          }
        }
      ]
    },
    {
      "cell_type": "code",
      "source": [
        "prediction = model.predict(testimg)\n",
        "print(np.argmax(prediction))"
      ],
      "metadata": {
        "colab": {
          "base_uri": "https://localhost:8080/"
        },
        "id": "vy111WwOXRoV",
        "outputId": "dcfcde06-57aa-4158-8ad5-0644f29de7b9"
      },
      "execution_count": null,
      "outputs": [
        {
          "output_type": "stream",
          "name": "stdout",
          "text": [
            "0\n"
          ]
        }
      ]
    }
  ],
  "metadata": {
    "colab": {
      "collapsed_sections": [],
      "provenance": []
    },
    "kernelspec": {
      "display_name": "Python 3",
      "name": "python3"
    },
    "language_info": {
      "name": "python"
    },
    "accelerator": "GPU"
  },
  "nbformat": 4,
  "nbformat_minor": 0
}